{
  "nbformat": 4,
  "nbformat_minor": 0,
  "metadata": {
    "colab": {
      "name": "AI Text to Speech.ipynb",
      "provenance": [],
      "authorship_tag": "ABX9TyNFSThXM6cyDXrO/Gejspu2",
      "include_colab_link": true
    },
    "kernelspec": {
      "name": "python3",
      "display_name": "Python 3"
    },
    "language_info": {
      "name": "python"
    }
  },
  "cells": [
    {
      "cell_type": "markdown",
      "metadata": {
        "id": "view-in-github",
        "colab_type": "text"
      },
      "source": [
        "<a href=\"https://colab.research.google.com/github/Cherrise-exe/Text_to_Speech_with_Watson/blob/main/AI_Text_to_Speech.ipynb\" target=\"_parent\"><img src=\"https://colab.research.google.com/assets/colab-badge.svg\" alt=\"Open In Colab\"/></a>"
      ]
    },
    {
      "cell_type": "markdown",
      "source": [
        "AI Text to Speech with IBM Waston"
      ],
      "metadata": {
        "id": "wXhwmWUYfd0q"
      }
    },
    {
      "cell_type": "markdown",
      "source": [
        "1. Install Dependencies"
      ],
      "metadata": {
        "id": "YQqa-UIkfPmg"
      }
    },
    {
      "cell_type": "code",
      "source": [
        "pip install ibm_watson"
      ],
      "metadata": {
        "colab": {
          "base_uri": "https://localhost:8080/"
        },
        "id": "ui7O9Cf4fW3g",
        "outputId": "d19dc024-abdc-4501-fd38-9110a97f2d55"
      },
      "execution_count": null,
      "outputs": [
        {
          "output_type": "stream",
          "name": "stdout",
          "text": [
            "Collecting ibm_watson\n",
            "  Downloading ibm-watson-5.3.0.tar.gz (412 kB)\n",
            "\u001b[?25l\r\u001b[K     |▉                               | 10 kB 32.3 MB/s eta 0:00:01\r\u001b[K     |█▋                              | 20 kB 40.8 MB/s eta 0:00:01\r\u001b[K     |██▍                             | 30 kB 26.5 MB/s eta 0:00:01\r\u001b[K     |███▏                            | 40 kB 22.5 MB/s eta 0:00:01\r\u001b[K     |████                            | 51 kB 15.1 MB/s eta 0:00:01\r\u001b[K     |████▊                           | 61 kB 16.7 MB/s eta 0:00:01\r\u001b[K     |█████▋                          | 71 kB 13.4 MB/s eta 0:00:01\r\u001b[K     |██████▍                         | 81 kB 14.6 MB/s eta 0:00:01\r\u001b[K     |███████▏                        | 92 kB 15.9 MB/s eta 0:00:01\r\u001b[K     |████████                        | 102 kB 13.8 MB/s eta 0:00:01\r\u001b[K     |████████▊                       | 112 kB 13.8 MB/s eta 0:00:01\r\u001b[K     |█████████▌                      | 122 kB 13.8 MB/s eta 0:00:01\r\u001b[K     |██████████▎                     | 133 kB 13.8 MB/s eta 0:00:01\r\u001b[K     |███████████▏                    | 143 kB 13.8 MB/s eta 0:00:01\r\u001b[K     |████████████                    | 153 kB 13.8 MB/s eta 0:00:01\r\u001b[K     |████████████▊                   | 163 kB 13.8 MB/s eta 0:00:01\r\u001b[K     |█████████████▌                  | 174 kB 13.8 MB/s eta 0:00:01\r\u001b[K     |██████████████▎                 | 184 kB 13.8 MB/s eta 0:00:01\r\u001b[K     |███████████████                 | 194 kB 13.8 MB/s eta 0:00:01\r\u001b[K     |████████████████                | 204 kB 13.8 MB/s eta 0:00:01\r\u001b[K     |████████████████▊               | 215 kB 13.8 MB/s eta 0:00:01\r\u001b[K     |█████████████████▌              | 225 kB 13.8 MB/s eta 0:00:01\r\u001b[K     |██████████████████▎             | 235 kB 13.8 MB/s eta 0:00:01\r\u001b[K     |███████████████████             | 245 kB 13.8 MB/s eta 0:00:01\r\u001b[K     |███████████████████▉            | 256 kB 13.8 MB/s eta 0:00:01\r\u001b[K     |████████████████████▋           | 266 kB 13.8 MB/s eta 0:00:01\r\u001b[K     |█████████████████████▌          | 276 kB 13.8 MB/s eta 0:00:01\r\u001b[K     |██████████████████████▎         | 286 kB 13.8 MB/s eta 0:00:01\r\u001b[K     |███████████████████████         | 296 kB 13.8 MB/s eta 0:00:01\r\u001b[K     |███████████████████████▉        | 307 kB 13.8 MB/s eta 0:00:01\r\u001b[K     |████████████████████████▋       | 317 kB 13.8 MB/s eta 0:00:01\r\u001b[K     |█████████████████████████▍      | 327 kB 13.8 MB/s eta 0:00:01\r\u001b[K     |██████████████████████████▏     | 337 kB 13.8 MB/s eta 0:00:01\r\u001b[K     |███████████████████████████     | 348 kB 13.8 MB/s eta 0:00:01\r\u001b[K     |███████████████████████████▉    | 358 kB 13.8 MB/s eta 0:00:01\r\u001b[K     |████████████████████████████▋   | 368 kB 13.8 MB/s eta 0:00:01\r\u001b[K     |█████████████████████████████▍  | 378 kB 13.8 MB/s eta 0:00:01\r\u001b[K     |██████████████████████████████▏ | 389 kB 13.8 MB/s eta 0:00:01\r\u001b[K     |███████████████████████████████ | 399 kB 13.8 MB/s eta 0:00:01\r\u001b[K     |███████████████████████████████▉| 409 kB 13.8 MB/s eta 0:00:01\r\u001b[K     |████████████████████████████████| 412 kB 13.8 MB/s \n",
            "\u001b[?25h  Installing build dependencies ... \u001b[?25l\u001b[?25hdone\n",
            "  Getting requirements to build wheel ... \u001b[?25l\u001b[?25hdone\n",
            "    Preparing wheel metadata ... \u001b[?25l\u001b[?25hdone\n",
            "Requirement already satisfied: requests<3.0,>=2.0 in /usr/local/lib/python3.7/dist-packages (from ibm_watson) (2.23.0)\n",
            "Requirement already satisfied: python-dateutil>=2.5.3 in /usr/local/lib/python3.7/dist-packages (from ibm_watson) (2.8.2)\n",
            "Collecting websocket-client==1.1.0\n",
            "  Downloading websocket_client-1.1.0-py2.py3-none-any.whl (68 kB)\n",
            "\u001b[K     |████████████████████████████████| 68 kB 5.5 MB/s \n",
            "\u001b[?25hCollecting ibm-cloud-sdk-core==3.*,>=3.3.6\n",
            "  Downloading ibm-cloud-sdk-core-3.13.2.tar.gz (49 kB)\n",
            "\u001b[K     |████████████████████████████████| 49 kB 4.0 MB/s \n",
            "\u001b[?25hCollecting requests<3.0,>=2.0\n",
            "  Downloading requests-2.27.1-py2.py3-none-any.whl (63 kB)\n",
            "\u001b[K     |████████████████████████████████| 63 kB 1.6 MB/s \n",
            "\u001b[?25hCollecting urllib3<2.0.0,>=1.26.0\n",
            "  Downloading urllib3-1.26.8-py2.py3-none-any.whl (138 kB)\n",
            "\u001b[K     |████████████████████████████████| 138 kB 74.3 MB/s \n",
            "\u001b[?25hCollecting PyJWT<3.0.0,>=2.0.1\n",
            "  Downloading PyJWT-2.3.0-py3-none-any.whl (16 kB)\n",
            "Requirement already satisfied: six>=1.5 in /usr/local/lib/python3.7/dist-packages (from python-dateutil>=2.5.3->ibm_watson) (1.15.0)\n",
            "Requirement already satisfied: certifi>=2017.4.17 in /usr/local/lib/python3.7/dist-packages (from requests<3.0,>=2.0->ibm_watson) (2021.10.8)\n",
            "Requirement already satisfied: idna<4,>=2.5 in /usr/local/lib/python3.7/dist-packages (from requests<3.0,>=2.0->ibm_watson) (2.10)\n",
            "Requirement already satisfied: charset-normalizer~=2.0.0 in /usr/local/lib/python3.7/dist-packages (from requests<3.0,>=2.0->ibm_watson) (2.0.9)\n",
            "Building wheels for collected packages: ibm-watson, ibm-cloud-sdk-core\n",
            "  Building wheel for ibm-watson (PEP 517) ... \u001b[?25l\u001b[?25hdone\n",
            "  Created wheel for ibm-watson: filename=ibm_watson-5.3.0-py3-none-any.whl size=408872 sha256=a0c125b5ec4ad830b50fe620a6086827a3834f85af76e235e0edfc1bf56c9d31\n",
            "  Stored in directory: /root/.cache/pip/wheels/21/d9/82/4ce5b94730bc4f1f7b4c6384f72964b9b8f79fcc125bb8085c\n",
            "  Building wheel for ibm-cloud-sdk-core (setup.py) ... \u001b[?25l\u001b[?25hdone\n",
            "  Created wheel for ibm-cloud-sdk-core: filename=ibm_cloud_sdk_core-3.13.2-py3-none-any.whl size=83241 sha256=a18256ca669d2e44ce4531ad37b29dacb2839c2c2a61b655106b21645dd68986\n",
            "  Stored in directory: /root/.cache/pip/wheels/f0/0d/5c/0c26fcc2db712e8d270e52f7c9f6d8abe33ca79ec29438aa14\n",
            "Successfully built ibm-watson ibm-cloud-sdk-core\n",
            "Installing collected packages: urllib3, requests, PyJWT, websocket-client, ibm-cloud-sdk-core, ibm-watson\n",
            "  Attempting uninstall: urllib3\n",
            "    Found existing installation: urllib3 1.24.3\n",
            "    Uninstalling urllib3-1.24.3:\n",
            "      Successfully uninstalled urllib3-1.24.3\n",
            "  Attempting uninstall: requests\n",
            "    Found existing installation: requests 2.23.0\n",
            "    Uninstalling requests-2.23.0:\n",
            "      Successfully uninstalled requests-2.23.0\n",
            "\u001b[31mERROR: pip's dependency resolver does not currently take into account all the packages that are installed. This behaviour is the source of the following dependency conflicts.\n",
            "google-colab 1.0.0 requires requests~=2.23.0, but you have requests 2.27.1 which is incompatible.\n",
            "datascience 0.10.6 requires folium==0.2.1, but you have folium 0.8.3 which is incompatible.\u001b[0m\n",
            "Successfully installed PyJWT-2.3.0 ibm-cloud-sdk-core-3.13.2 ibm-watson-5.3.0 requests-2.27.1 urllib3-1.26.8 websocket-client-1.1.0\n"
          ]
        }
      ]
    },
    {
      "cell_type": "markdown",
      "source": [
        "2. Authenticate\n"
      ],
      "metadata": {
        "id": "QIWGJ1P_f3cv"
      }
    },
    {
      "cell_type": "code",
      "source": [
        "url = 'insert url here'\n",
        "apikey = 'insert apikey here'"
      ],
      "metadata": {
        "id": "i0txMR2IfHta"
      },
      "execution_count": null,
      "outputs": []
    },
    {
      "cell_type": "code",
      "source": [
        "from ibm_watson import TextToSpeechV1\n",
        "from ibm_cloud_sdk_core.authenticators import IAMAuthenticator"
      ],
      "metadata": {
        "id": "K55nyYOuyTmv"
      },
      "execution_count": null,
      "outputs": []
    },
    {
      "cell_type": "code",
      "source": [
        "# Setup Service\n",
        "authenticator = IAMAuthenticator(apikey)\n",
        "\n",
        "# New TTS Service\n",
        "tts = TextToSpeechV1(authenticator = authenticator)\n",
        "\n",
        "# Set Service URL\n",
        "tts.set_service_url(url)"
      ],
      "metadata": {
        "id": "WpLG8lICyUK2"
      },
      "execution_count": null,
      "outputs": []
    },
    {
      "cell_type": "markdown",
      "source": [
        "3. Convert a String"
      ],
      "metadata": {
        "id": "zer1-bptf4-V"
      }
    },
    {
      "cell_type": "code",
      "source": [
        "with open('./speech.mp3', 'wb') as audio_file:\n",
        "  res = tts.synthesize('Hello World!', accept='audio/mp3', voice='en-US_AllisonV3Voice').get_result()\n",
        "  audio_file.write(res.content)"
      ],
      "metadata": {
        "id": "n07Z-I53yUTX"
      },
      "execution_count": null,
      "outputs": []
    },
    {
      "cell_type": "markdown",
      "source": [
        "4. Convert from a File"
      ],
      "metadata": {
        "id": "bHbZgXWkf4hE"
      }
    },
    {
      "cell_type": "code",
      "source": [
        "with open('Controls_and_Safeguards.txt', 'r') as f:\n",
        "  text = f.readlines()"
      ],
      "metadata": {
        "id": "_tdF75m6fH33"
      },
      "execution_count": null,
      "outputs": []
    },
    {
      "cell_type": "code",
      "source": [
        "text\n"
      ],
      "metadata": {
        "id": "oJB6ET24fICY",
        "colab": {
          "base_uri": "https://localhost:8080/"
        },
        "outputId": "39ca0abb-ffcd-4dcc-ee3a-195e18f54676"
      },
      "execution_count": null,
      "outputs": [
        {
          "output_type": "execute_result",
          "data": {
            "text/plain": [
              "['Portable devices increase the risk of a cyber-attack or data breach. \\n',\n",
              " 'In most situations, the protection we would get from secure our connection to the internet is reduced greatly. \\n',\n",
              " 'Since most of these devices are connected on WiFi without caring about who else is on that connection, it is hazardous from a security standpoint. \\n',\n",
              " 'This approach prays on human miscalculation to how much convenience is chosen over safety. ']"
            ]
          },
          "metadata": {},
          "execution_count": 13
        }
      ]
    },
    {
      "cell_type": "code",
      "source": [
        "text = [line.replace('\\n', '') for line in text]\n",
        "text = ''.join(str(line) for line in text)"
      ],
      "metadata": {
        "id": "hn6ycaHZ5RHz"
      },
      "execution_count": null,
      "outputs": []
    },
    {
      "cell_type": "code",
      "source": [
        "text"
      ],
      "metadata": {
        "colab": {
          "base_uri": "https://localhost:8080/",
          "height": 110
        },
        "id": "todWtuxq5qpN",
        "outputId": "628c45b8-e211-4401-964d-29d69244f97d"
      },
      "execution_count": null,
      "outputs": [
        {
          "output_type": "execute_result",
          "data": {
            "application/vnd.google.colaboratory.intrinsic+json": {
              "type": "string"
            },
            "text/plain": [
              "'Portable devices increase the risk of a cyber-attack or data breach. In most situations, the protection we would get from secure our connection to the internet is reduced greatly. Since most of these devices are connected on WiFi without caring about who else is on that connection, it is hazardous from a security standpoint. This approach prays on human miscalculation to how much convenience is chosen over safety. '"
            ]
          },
          "metadata": {},
          "execution_count": 15
        }
      ]
    },
    {
      "cell_type": "code",
      "source": [
        "with open('./safeguardAudio.mp3', 'wb') as audio_file:\n",
        "  res = tts.synthesize(text, accept='audio/mp3', voice='en-US_AllisonV3Voice').get_result()\n",
        "  audio_file.write(res.content)"
      ],
      "metadata": {
        "id": "ejXlJE5C5xtq"
      },
      "execution_count": null,
      "outputs": []
    },
    {
      "cell_type": "markdown",
      "source": [
        "5. Using New Language Models"
      ],
      "metadata": {
        "id": "q3cOB-jmf4uC"
      }
    },
    {
      "cell_type": "code",
      "source": [
        "voice = 'fr-FR_ReneeV3Voice'"
      ],
      "metadata": {
        "id": "8OXoFUFHzRNN"
      },
      "execution_count": null,
      "outputs": []
    },
    {
      "cell_type": "code",
      "source": [
        "angele_lyrics = \"\"\"\n",
        "On connaît tous la pression.\n",
        "Tu t'sens comme la reine du monde.\n",
        "Mais c'est qu'une impression.\n",
        "Les gens t'aiment pas pour de vrai.\n",
        "Tout le monde te trouve génial alors que t'as rien fait.\n",
        "\"\"\""
      ],
      "metadata": {
        "id": "Yr07QFnk6tET"
      },
      "execution_count": null,
      "outputs": []
    },
    {
      "cell_type": "code",
      "source": [
        "with open('./flou_lyrics.mp3', 'wb') as audio_file:\n",
        "  res = tts.synthesize(angele_lyrics, accept='audio/mp3', voice=voice).get_result()\n",
        "  audio_file.write(res.content)"
      ],
      "metadata": {
        "id": "ia3xCarr6zd4"
      },
      "execution_count": null,
      "outputs": []
    }
  ]
}